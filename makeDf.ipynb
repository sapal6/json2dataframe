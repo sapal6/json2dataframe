{
 "cells": [
  {
   "cell_type": "code",
   "execution_count": null,
   "metadata": {},
   "outputs": [],
   "source": [
    "# default_exp makeDf"
   ]
  },
  {
   "cell_type": "markdown",
   "metadata": {},
   "source": [
    "# Makedf\n",
    "\n",
    "> Contains public API to create pandas dataframe from json files. Uses ijson to read json files and pandas to create the dataframe.\n",
    "\n",
    "A single column of a dataframe is created."
   ]
  },
  {
   "cell_type": "code",
   "execution_count": null,
   "metadata": {},
   "outputs": [],
   "source": [
    "#hide\n",
    "from nbdev.showdoc import *"
   ]
  },
  {
   "cell_type": "code",
   "execution_count": null,
   "metadata": {},
   "outputs": [
    {
     "ename": "ImportError",
     "evalue": "attempted relative import with no known parent package",
     "output_type": "error",
     "traceback": [
      "\u001b[0;31m---------------------------------------------------------------------------\u001b[0m",
      "\u001b[0;31mImportError\u001b[0m                               Traceback (most recent call last)",
      "\u001b[0;32m<ipython-input-30-d86b9393a4bb>\u001b[0m in \u001b[0;36m<module>\u001b[0;34m\u001b[0m\n\u001b[1;32m      2\u001b[0m \u001b[0;31m#export\u001b[0m\u001b[0;34m\u001b[0m\u001b[0;34m\u001b[0m\u001b[0;34m\u001b[0m\u001b[0m\n\u001b[1;32m      3\u001b[0m \u001b[0;32mfrom\u001b[0m \u001b[0mpathlib\u001b[0m \u001b[0;32mimport\u001b[0m \u001b[0mPath\u001b[0m\u001b[0;34m\u001b[0m\u001b[0;34m\u001b[0m\u001b[0m\n\u001b[0;32m----> 4\u001b[0;31m \u001b[0;32mfrom\u001b[0m \u001b[0;34m.\u001b[0m\u001b[0mcoroutines\u001b[0m \u001b[0;32mimport\u001b[0m \u001b[0;34m*\u001b[0m\u001b[0;34m\u001b[0m\u001b[0;34m\u001b[0m\u001b[0m\n\u001b[0m\u001b[1;32m      5\u001b[0m \u001b[0;32mfrom\u001b[0m \u001b[0;34m.\u001b[0m\u001b[0msendableDf\u001b[0m \u001b[0;32mimport\u001b[0m \u001b[0;34m*\u001b[0m\u001b[0;34m\u001b[0m\u001b[0;34m\u001b[0m\u001b[0m\n",
      "\u001b[0;31mImportError\u001b[0m: attempted relative import with no known parent package"
     ]
    }
   ],
   "source": [
    "#todo: create tests for this\n",
    "#export\n",
    "from pathlib import Path\n",
    "from .coroutines import *\n",
    "from .sendableDf import *"
   ]
  },
  {
   "cell_type": "code",
   "execution_count": null,
   "metadata": {},
   "outputs": [],
   "source": [
    "#hide\n",
    "#required for scripts in jupyter notebook\n",
    "from json2dataframe.coroutines import *\n",
    "from json2dataframe.sendableDf import *"
   ]
  },
  {
   "cell_type": "code",
   "execution_count": null,
   "metadata": {},
   "outputs": [],
   "source": [
    "#export\n",
    "#todo: test it\n",
    "#todo: make the import of corutines correct and use the corituines.method name below\n",
    "class MakeDf:\n",
    "    \"\"\"\n",
    "    Provides API to create dataframe from json files.\n",
    "    Provides the method `dataframe()` which can be used to\n",
    "    create dataframes.\n",
    "    \"\"\"\n",
    "    def __init__(self, key_str: str):\n",
    "        self.key_str = key_str\n",
    "        self.df_coro = SendableDf(self.key_str)\n",
    "        self.target = json_coro(key_str, self.df_coro)\n",
    "\n",
    "    def __producer(self, json_files: list):\n",
    "        \"\"\"Internal method. Acts as producer\n",
    "         to send the data to the next corutine\n",
    "         \n",
    "         Accepts the list of json files and the\n",
    "         name of the sink.\"\"\"\n",
    "        self.target.send(json_files)\n",
    "        self.target.close()\n",
    "\n",
    "    def dataframe(self, json_files_dir: str):\n",
    "        \"\"\"High level API to send data to producer.\n",
    "\n",
    "           Accepts the path to the directory where\n",
    "           json files are stored.\n",
    "           \n",
    "           Returns a dataframe\"\"\"\n",
    "        json_files = [file for file in Path(json_files_dir).iterdir() if  file.suffix == '.jsonl']\n",
    "        self.__producer(json_files)\n",
    "        df = self.df_coro.collect_df()\n",
    "        return df"
   ]
  },
  {
   "cell_type": "markdown",
   "metadata": {},
   "source": [
    "## Example"
   ]
  },
  {
   "cell_type": "code",
   "execution_count": null,
   "metadata": {},
   "outputs": [
    {
     "name": "stdout",
     "output_type": "stream",
     "text": "CPU times: user 0 ns, sys: 0 ns, total: 0 ns\nWall time: 33.6 µs\nParsing test/working/coronavirus-tweet-id-2020-01-21-22.jsonl\nParsing test/working/coronavirus-tweet-id-2020-01-21-23.jsonl\n"
    },
    {
     "data": {
      "text/html": "<div>\n<style scoped>\n    .dataframe tbody tr th:only-of-type {\n        vertical-align: middle;\n    }\n\n    .dataframe tbody tr th {\n        vertical-align: top;\n    }\n\n    .dataframe thead th {\n        text-align: right;\n    }\n</style>\n<table border=\"1\" class=\"dataframe\">\n  <thead>\n    <tr style=\"text-align: right;\">\n      <th></th>\n      <th>retweeted_status.full_text</th>\n    </tr>\n  </thead>\n  <tbody>\n    <tr>\n      <th>0</th>\n      <td>BREAKING: First confirmed case of the new coro...</td>\n    </tr>\n    <tr>\n      <th>1</th>\n      <td>All you need to know about the Wuhan coronavir...</td>\n    </tr>\n  </tbody>\n</table>\n</div>",
      "text/plain": "                          retweeted_status.full_text\n0  BREAKING: First confirmed case of the new coro...\n1  All you need to know about the Wuhan coronavir..."
     },
     "execution_count": null,
     "metadata": {},
     "output_type": "execute_result"
    }
   ],
   "source": [
    "%time\n",
    "df = MakeDf('retweeted_status.full_text').dataframe(\"./test/working\")\n",
    "df.head()"
   ]
  },
  {
   "cell_type": "code",
   "execution_count": null,
   "metadata": {},
   "outputs": [
    {
     "data": {
      "text/markdown": "<h4 id=\"MakeDf.dataframe\" class=\"doc_header\"><code>MakeDf.dataframe</code><a href=\"__main__.py#L24\" class=\"source_link\" style=\"float:right\">[source]</a></h4>\n\n> <code>MakeDf.dataframe</code>(**`json_files_dir`**:`str`)\n\nHigh level API to send data to producer.\n\nAccepts the path to the directory where\njson files are stored.\n\nReturns a dataframe",
      "text/plain": "<IPython.core.display.Markdown object>"
     },
     "metadata": {},
     "output_type": "display_data"
    }
   ],
   "source": [
    "show_doc(MakeDf.dataframe)"
   ]
  }
 ],
 "metadata": {
  "kernelspec": {
   "display_name": "Python 3",
   "name": "python3"
  }
 },
 "nbformat": 4,
 "nbformat_minor": 2
}
