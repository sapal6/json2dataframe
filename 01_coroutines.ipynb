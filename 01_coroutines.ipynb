{
 "cells": [
  {
   "cell_type": "code",
   "execution_count": null,
   "metadata": {},
   "outputs": [],
   "source": [
    "# default_exp coroutines"
   ]
  },
  {
   "cell_type": "markdown",
   "metadata": {},
   "source": [
    "# Coroutines\n",
    "\n",
    "> Custom Coroutines acting as pipes."
   ]
  },
  {
   "cell_type": "code",
   "execution_count": null,
   "metadata": {},
   "outputs": [],
   "source": [
    "#hide\n",
    "from nbdev.showdoc import *"
   ]
  },
  {
   "cell_type": "code",
   "execution_count": null,
   "metadata": {},
   "outputs": [],
   "source": [
    "#todo: write simple test for this\n",
    "#export\n",
    "import ijson\n",
    "\n",
    "def coroutine(func):\n",
    "    \"\"\"Decorator to prime up a corotuine\n",
    "     It calls the next() of a coroutine\"\"\"\n",
    "    def start(*args, **kwrgs):\n",
    "        coro = func(*args, **kwrgs)\n",
    "        coro.__next__()\n",
    "        return coro\n",
    "    return start\n",
    "\n",
    "@coroutine\n",
    "def json_coro(key_str: str, target):\n",
    "    \"coroutine to parse json files from a directory\"\n",
    "\n",
    "    while True:\n",
    "        files = (yield)\n",
    "        data = []\n",
    "        for file in files:\n",
    "            print(f'Parsing {file}')\n",
    "            with open(file, 'r') as f:\n",
    "                objects = ijson.items(f, key_str)\n",
    "                data+=list(objects)\n",
    "        target.send(data)"
   ]
  },
  {
   "cell_type": "code",
   "execution_count": null,
   "metadata": {},
   "outputs": [
    {
     "data": {
      "text/markdown": "<h4 id=\"coroutine\" class=\"doc_header\"><code>coroutine</code><a href=\"__main__.py#L5\" class=\"source_link\" style=\"float:right\">[source]</a></h4>\n\n> <code>coroutine</code>(**`func`**)\n\nDecorator to prime up a corotuine\nIt calls the next() of a coroutine",
      "text/plain": "<IPython.core.display.Markdown object>"
     },
     "metadata": {},
     "output_type": "display_data"
    },
    {
     "data": {
      "text/markdown": "<h4 id=\"coroutine.<locals>.start\" class=\"doc_header\"><code>coroutine.<locals>.start</code><a href=\"__main__.py#L8\" class=\"source_link\" style=\"float:right\">[source]</a></h4>\n\n> <code>coroutine.<locals>.start</code>(**\\*`args`**, **\\*\\*`kwrgs`**)\n\n",
      "text/plain": "<IPython.core.display.Markdown object>"
     },
     "metadata": {},
     "output_type": "display_data"
    }
   ],
   "source": [
    "show_doc(coroutine)\n",
    "show_doc(json_coro)"
   ]
  }
 ],
 "metadata": {
  "kernelspec": {
   "display_name": "Python 3",
   "language": "python",
   "name": "python3"
  }
 },
 "nbformat": 4,
 "nbformat_minor": 2
}
