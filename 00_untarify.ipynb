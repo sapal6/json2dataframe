{
 "cells": [
  {
   "cell_type": "code",
   "execution_count": null,
   "metadata": {},
   "outputs": [],
   "source": [
    "# default_exp untarify"
   ]
  },
  {
   "cell_type": "markdown",
   "metadata": {},
   "source": [
    "# Untarify\n",
    "\n",
    "> Untarify provides the `untar()` method to untar zipped json files. An additional decorator `@powerup_untar`is provided which endows multiprocessign superpowers to the humble unzipping processes."
   ]
  },
  {
   "cell_type": "code",
   "execution_count": null,
   "metadata": {},
   "outputs": [],
   "source": [
    "#hide\n",
    "from nbdev.showdoc import *"
   ]
  },
  {
   "cell_type": "code",
   "execution_count": null,
   "metadata": {},
   "outputs": [
    {
     "name": "stdout",
     "output_type": "stream",
     "text": "The history saving thread hit an unexpected error (DatabaseError('database disk image is malformed')).History will not be written to the database.\n"
    }
   ],
   "source": [
    "#todo: write tests for this\n",
    "#export\n",
    "from pathlib import Path\n",
    "import concurrent.futures, gzip"
   ]
  },
  {
   "cell_type": "code",
   "execution_count": null,
   "metadata": {},
   "outputs": [],
   "source": [
    "#export\n",
    "def untar(source: Path, verbose=False) -> Path:\n",
    "    \"\"\"\n",
    "    Desc: creates a file with the same extension as the \n",
    "    file contained within the zipped archive and \n",
    "    then writes the contents from the zipped file \n",
    "    into the new file created\n",
    "    Args:\n",
    "     source - Path object for the source from\n",
    "              where the files needs to be fetched\n",
    "     verbose - Let the method know if you want to\n",
    "               see progress messages\n",
    "    Returns: Path object for the uncompressed file\n",
    "    \"\"\"\n",
    "\n",
    "    if verbose: print(f'source:{source}')\n",
    "    dest_file = source.parent/source.stem\n",
    "    if dest_file.exists(): dest_file.unlink()\n",
    "    if not dest_file.exists():\n",
    "        if verbose: print(\"extracting..\")\n",
    "        dest_file.touch()\n",
    "        with gzip.open(source, \"rb\") as file:\n",
    "            for line in file:\n",
    "                dest_file.write_bytes(line)\n",
    "                #dest_file.close()\n",
    "        if verbose: print('File extracted successfully.')\n",
    "    return dest_file\n",
    "\n",
    "def powerup_untar(func):\n",
    "    \"\"\"\n",
    "    Desc: Decorator which endows untar() with superpowers.\n",
    "          Divides the untar process to multiple cores\n",
    "    Args: Function to be decorated.\n",
    "    Returns: Superpowers\n",
    "    \"\"\"\n",
    "    def wrapper(*args):\n",
    "        source = func(*args)\n",
    "        with concurrent.futures.ProcessPoolExecutor() as executor:\n",
    "            executor.map(untar, source) \n",
    "    return wrapper"
   ]
  },
  {
   "cell_type": "code",
   "execution_count": null,
   "metadata": {},
   "outputs": [
    {
     "data": {
      "text/markdown": "<h4 id=\"untar\" class=\"doc_header\"><code>untar</code><a href=\"__main__.py#L2\" class=\"source_link\" style=\"float:right\">[source]</a></h4>\n\n> <code>untar</code>(**`source`**:`Path`, **`verbose`**=*`False`*)\n\nDesc: creates a file with the same extension as the \nfile contained within the zipped archive and \nthen writes the contents from the zipped file \ninto the new file created\nArgs:\n source - Path object for the source from\n          where the files needs to be fetched\n verbose - Let the method know if you want to\n           see progress messages\nReturns: Path object for the uncompressed file",
      "text/plain": "<IPython.core.display.Markdown object>"
     },
     "metadata": {},
     "output_type": "display_data"
    },
    {
     "data": {
      "text/markdown": "<h4 id=\"powerup_untar\" class=\"doc_header\"><code>powerup_untar</code><a href=\"__main__.py#L29\" class=\"source_link\" style=\"float:right\">[source]</a></h4>\n\n> <code>powerup_untar</code>(**`func`**)\n\nDesc: Decorator which endows untar() with superpowers.\n      Divides the untar process to multiple cores\nArgs: Function to be decorated.\nReturns: Superpowers",
      "text/plain": "<IPython.core.display.Markdown object>"
     },
     "metadata": {},
     "output_type": "display_data"
    }
   ],
   "source": [
    "show_doc(untar)\n",
    "show_doc(powerup_untar)"
   ]
  },
  {
   "cell_type": "markdown",
   "metadata": {},
   "source": [
    "### Example\n",
    "\n",
    "The below is an example of using the `untar()` method"
   ]
  },
  {
   "cell_type": "code",
   "execution_count": null,
   "metadata": {},
   "outputs": [],
   "source": [
    "path = Path(\"./test/input/test\")\n",
    "outputPath = Path(\"./test/working\")"
   ]
  },
  {
   "cell_type": "code",
   "execution_count": null,
   "metadata": {},
   "outputs": [
    {
     "data": {
      "text/plain": "[PosixPath('test/input/test/coronavirus-tweet-id-2020-01-21-22.jsonl.gz'),\n PosixPath('test/input/test/coronavirus-tweet-id-2020-01-21-23.jsonl.gz')]"
     },
     "execution_count": null,
     "metadata": {},
     "output_type": "execute_result"
    }
   ],
   "source": [
    "files = [file for file in path.iterdir() if file.suffix == '.gz']\n",
    "files"
   ]
  },
  {
   "cell_type": "code",
   "execution_count": null,
   "metadata": {},
   "outputs": [],
   "source": [
    "import shutil\n",
    "test_files = files[:3]\n",
    "test_target = [outputPath/test_file.stem for test_file in test_files]\n",
    "for i in range(len(test_files)):\n",
    "    shutil.copy(str(test_files[i]),str(outputPath/test_files[i].name))"
   ]
  },
  {
   "cell_type": "code",
   "execution_count": null,
   "metadata": {},
   "outputs": [],
   "source": [
    "for file in files:\n",
    "    untar(file)"
   ]
  },
  {
   "cell_type": "markdown",
   "metadata": {},
   "source": [
    "## Example\n",
    "use `untar()` to power up the untaring processes. This uses multiple processers."
   ]
  },
  {
   "cell_type": "code",
   "execution_count": null,
   "metadata": {},
   "outputs": [],
   "source": [
    "@powerup_untar\n",
    "def find_source(outputPath, source):\n",
    "    test_source = [outputPath/source.name for source in source]\n",
    "    return test_source"
   ]
  },
  {
   "cell_type": "code",
   "execution_count": null,
   "metadata": {},
   "outputs": [],
   "source": [
    "find_source(outputPath, test_files)"
   ]
  }
 ],
 "metadata": {
  "kernelspec": {
   "display_name": "Python 3",
   "language": "python",
   "name": "python3"
  }
 },
 "nbformat": 4,
 "nbformat_minor": 1
}
