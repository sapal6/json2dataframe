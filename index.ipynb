{
 "cells": [
  {
   "cell_type": "markdown",
   "metadata": {},
   "source": [
    "# Json2Dataframe\n",
    "\n",
    "> Json2Dataframe started as an experiment to test the following questions in my mind -->\n",
    "   * Can I build a library quickly with [nbdev](!https://nbdev.fast.ai/tutorial/)\n",
    "   * Can I build a way to use exisitng tool(s) to parse big JSON files and built Dataframes out of it?\n",
    "\n",
    "  json2Dataframe lazily reads the JSON files and then creates a Pandas dataframe with only the keys which are required by the user.\n",
    "\n",
    "  ### Requirements\n",
    "  json2dataframe uses ijson to parse json files and Pandas to create dataframes. So you would need to have these two packages installed beforehand in case you are planning to extend this library or contribute. If you just wan to use this library then no need to worry as the 'pip install'command will take care of all dependencies for you.\n",
    "\n",
    "  "
   ]
  },
  {
   "cell_type": "markdown",
   "metadata": {},
   "source": [
    "This file will become your README and also the index of your documentation."
   ]
  },
  {
   "cell_type": "markdown",
   "metadata": {},
   "source": [
    "## Install"
   ]
  },
  {
   "cell_type": "markdown",
   "metadata": {},
   "source": [
    "`pip install json2dataframe`"
   ]
  },
  {
   "cell_type": "markdown",
   "metadata": {},
   "source": [
    "## How to use"
   ]
  },
  {
   "cell_type": "markdown",
   "metadata": {},
   "source": [
    "At it's current state json2dataframe is humble and contains only three APIs -->\n",
    "* `untar()` - Helps you to untar json files in case they are zipped. \n",
    "* `powerup_untar` - Decorator to untar files using multiple cores. \n",
    "*  `dataframe()`- This does an obvious thing i.e. create a dataframe when you supply it with json files. \n",
    "\n",
    "The following quick examples can help you get started-->"
   ]
  },
  {
   "cell_type": "code",
   "execution_count": null,
   "metadata": {},
   "outputs": [],
   "source": [
    "from pathlib import Path\n",
    "from json2dataframe.untarify import *\n",
    "path = Path(\"./test/input/test\")\n",
    "files = [file for file in path.iterdir() if file.suffix=='.gz']\n",
    "\n",
    "for file in files:\n",
    "    untar(file)\n",
    "\n"
   ]
  },
  {
   "cell_type": "code",
   "execution_count": null,
   "metadata": {},
   "outputs": [],
   "source": [
    "#to use multiple processors\n",
    "@powerup_untar\n",
    "def find_source(outputPath, source):\n",
    "    test_source = [path/source.name for source in source]\n",
    "    return test_source"
   ]
  },
  {
   "cell_type": "code",
   "execution_count": null,
   "metadata": {},
   "outputs": [
    {
     "name": "stdout",
     "output_type": "stream",
     "text": "Parsing test/working/coronavirus-tweet-id-2020-01-21-22.jsonl\nParsing test/working/coronavirus-tweet-id-2020-01-21-23.jsonl\n"
    },
    {
     "data": {
      "text/html": "<div>\n<style scoped>\n    .dataframe tbody tr th:only-of-type {\n        vertical-align: middle;\n    }\n\n    .dataframe tbody tr th {\n        vertical-align: top;\n    }\n\n    .dataframe thead th {\n        text-align: right;\n    }\n</style>\n<table border=\"1\" class=\"dataframe\">\n  <thead>\n    <tr style=\"text-align: right;\">\n      <th></th>\n      <th>retweeted_status.full_text</th>\n    </tr>\n  </thead>\n  <tbody>\n    <tr>\n      <th>0</th>\n      <td>BREAKING: First confirmed case of the new coro...</td>\n    </tr>\n    <tr>\n      <th>1</th>\n      <td>All you need to know about the Wuhan coronavir...</td>\n    </tr>\n  </tbody>\n</table>\n</div>",
      "text/plain": "                          retweeted_status.full_text\n0  BREAKING: First confirmed case of the new coro...\n1  All you need to know about the Wuhan coronavir..."
     },
     "execution_count": null,
     "metadata": {},
     "output_type": "execute_result"
    }
   ],
   "source": [
    "from json2dataframe.makeDf import *\n",
    "df = MakeDf('retweeted_status.full_text').dataframe(\"./test/working\")\n",
    "df.head()"
   ]
  },
  {
   "cell_type": "markdown",
   "metadata": {},
   "source": [
    "## Contributing To The Library"
   ]
  },
  {
   "cell_type": "markdown",
   "metadata": {},
   "source": [
    "For detailed contribution guidelines refer to the `contribution` page. \n",
    "\n",
    "* Right now the immediate thing on which I need help is creating tests for the code. This library is still under developement and I will add tests evetually, but if you can add tests then it would help to catch bugs early. \n",
    "\n",
    "* Another area which needs immediate attention is the code itself. I haven't yet paid attention towards finetuning of the code so this is one of the areas where you can contribute.\n",
    "\n",
    "* There might be places in teh code where there is a need to follow best practices. This is another area where immediate help is needed. By the way this library closely follows the fastai coding conventions and best practices."
   ]
  }
 ],
 "metadata": {
  "kernelspec": {
   "display_name": "Python 3",
   "language": "python",
   "name": "python3"
  }
 },
 "nbformat": 4,
 "nbformat_minor": 2
}
