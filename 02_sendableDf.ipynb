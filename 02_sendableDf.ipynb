{
 "cells": [
  {
   "cell_type": "code",
   "execution_count": 1,
   "metadata": {},
   "outputs": [],
   "source": [
    "# default_exp sendableDf"
   ]
  },
  {
   "cell_type": "markdown",
   "metadata": {},
   "source": [
    "# SendableDf\n",
    "\n",
    "> A class that mimics a coroutine receiving values. Coroutine are sent values via their send() method. This class defines such a method so that values sent into it are converted into the dataframe, which can be inspected later.\n",
    "\n",
    "Inspired by ##from isjon utils code--https://github.com/ICRAR/ijson/ blob/master/ijson/utils.py"
   ]
  },
  {
   "cell_type": "code",
   "execution_count": 2,
   "metadata": {},
   "outputs": [],
   "source": [
    "#hide\n",
    "from nbdev.showdoc import *"
   ]
  },
  {
   "cell_type": "code",
   "execution_count": 3,
   "metadata": {},
   "outputs": [],
   "source": [
    "#export\n",
    "import pandas as pd"
   ]
  },
  {
   "cell_type": "code",
   "execution_count": 4,
   "metadata": {},
   "outputs": [],
   "source": [
    "#export\n",
    "class SendableDf:\n",
    "    \"\"\"\n",
    "    A class that mimics a coroutine receiving values.\n",
    "    Coroutine are sent values via their send() method. This class defines such a\n",
    "    method so that values sent into it are converted into the dataframe, which can be\n",
    "    inspected later.\n",
    "\n",
    "    Inspired by ##from isjon utils code--https://github.com/ICRAR/ijson/ blob/master/ijson/utils.py\n",
    "    \"\"\"\n",
    "    def __init__(self, key_str: str):\n",
    "        self.key_str = key_str\n",
    "        self.rows = list\n",
    "\n",
    "    def send(self, column_data:list):\n",
    "        \"\"\"\n",
    "        send overrides a corutines `send()` method.\n",
    "        Accepts a list of json data\n",
    "        Returns a list\n",
    "        \"\"\"\n",
    "        self.rows=column_data\n",
    "\n",
    "    def collect_df(self):\n",
    "        \"\"\"\n",
    "        creates a dataframe from the list of data collected by send\n",
    "        \"\"\"\n",
    "        return pd.DataFrame(self.rows, columns=[self.key_str])"
   ]
  },
  {
   "cell_type": "code",
   "execution_count": 5,
   "metadata": {},
   "outputs": [
    {
     "output_type": "display_data",
     "data": {
      "text/plain": "<IPython.core.display.Markdown object>",
      "text/markdown": "<h4 id=\"SendableDf.send\" class=\"doc_header\"><code>SendableDf.send</code><a href=\"__main__.py#L15\" class=\"source_link\" style=\"float:right\">[source]</a></h4>\n\n> <code>SendableDf.send</code>(**`column_data`**:`list`)\n\nsend overrides a corutines `send()` method.\nAccepts a list of json data\nReturns a list"
     },
     "metadata": {}
    },
    {
     "output_type": "display_data",
     "data": {
      "text/plain": "<IPython.core.display.Markdown object>",
      "text/markdown": "<h4 id=\"SendableDf.collect_df\" class=\"doc_header\"><code>SendableDf.collect_df</code><a href=\"__main__.py#L23\" class=\"source_link\" style=\"float:right\">[source]</a></h4>\n\n> <code>SendableDf.collect_df</code>()\n\ncreates a dataframe from the list of data collected by send"
     },
     "metadata": {}
    }
   ],
   "source": [
    "show_doc(SendableDf.send)\n",
    "show_doc(SendableDf.collect_df)"
   ]
  }
 ],
 "metadata": {
  "language_info": {
   "codemirror_mode": {
    "name": "ipython",
    "version": 3
   },
   "file_extension": ".py",
   "mimetype": "text/x-python",
   "name": "python",
   "nbconvert_exporter": "python",
   "pygments_lexer": "ipython3",
   "version": "3.7.6-final"
  },
  "orig_nbformat": 2,
  "kernelspec": {
   "name": "python3",
   "display_name": "Python 3"
  }
 },
 "nbformat": 4,
 "nbformat_minor": 2
}